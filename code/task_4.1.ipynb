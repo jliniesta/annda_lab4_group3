{
 "cells": [
  {
   "attachments": {},
   "cell_type": "markdown",
   "metadata": {},
   "source": [
    "## 4.1 RBM for recognisisng MNIST images"
   ]
  },
  {
   "attachments": {},
   "cell_type": "markdown",
   "metadata": {},
   "source": [
    "Import libraries"
   ]
  },
  {
   "cell_type": "code",
   "execution_count": 1,
   "metadata": {},
   "outputs": [],
   "source": [
    "from dbn import DeepBeliefNet\n",
    "from rbm import RestrictedBoltzmannMachine\n",
    "from util import *\n",
    "import matplotlib.pyplot as plt"
   ]
  },
  {
   "attachments": {},
   "cell_type": "markdown",
   "metadata": {},
   "source": [
    "Load datasets (train and test with their labels)"
   ]
  },
  {
   "cell_type": "code",
   "execution_count": 2,
   "metadata": {},
   "outputs": [],
   "source": [
    "image_size = [28, 28]\n",
    "train_imgs, train_lbls, test_imgs, test_lbls = read_mnist(dim=image_size, n_train=60000, n_test=10000) "
   ]
  },
  {
   "attachments": {},
   "cell_type": "markdown",
   "metadata": {},
   "source": [
    "Create RBM1:\n",
    "  - Visible layer: 28 x 28 pixel image\n",
    "  \n",
    "  - Hidden layer: 500 untis"
   ]
  },
  {
   "cell_type": "code",
   "execution_count": 3,
   "metadata": {},
   "outputs": [
    {
     "name": "stdout",
     "output_type": "stream",
     "text": [
      "learning CD1\n",
      "Iteration = 0 - recon_loss = 0.1930\n",
      "Iteration = 2 - recon_loss = 0.2181\n",
      "Iteration = 4 - recon_loss = 0.2015\n"
     ]
    },
    {
     "ename": "KeyboardInterrupt",
     "evalue": "",
     "output_type": "error",
     "traceback": [
      "\u001b[1;31m---------------------------------------------------------------------------\u001b[0m",
      "\u001b[1;31mKeyboardInterrupt\u001b[0m                         Traceback (most recent call last)",
      "\u001b[1;32mC:\\Users\\FRANCI~1\\AppData\\Local\\Temp/ipykernel_656/439179837.py\u001b[0m in \u001b[0;36m<module>\u001b[1;34m\u001b[0m\n\u001b[0;32m      8\u001b[0m                                  )\n\u001b[0;32m      9\u001b[0m \u001b[1;33m\u001b[0m\u001b[0m\n\u001b[1;32m---> 10\u001b[1;33m \u001b[0mrbm\u001b[0m\u001b[1;33m.\u001b[0m\u001b[0mcd1\u001b[0m\u001b[1;33m(\u001b[0m\u001b[0mvisible_trainset\u001b[0m\u001b[1;33m=\u001b[0m\u001b[0mtrain_imgs\u001b[0m\u001b[1;33m,\u001b[0m \u001b[0mn_iterations\u001b[0m\u001b[1;33m=\u001b[0m\u001b[1;36m20\u001b[0m\u001b[1;33m)\u001b[0m\u001b[1;33m\u001b[0m\u001b[1;33m\u001b[0m\u001b[0m\n\u001b[0m",
      "\u001b[1;32mc:\\Users\\Francisco Javier\\OneDrive - Universidad Politécnica de Madrid\\KTH\\P3\\DD2437_ANN-Deep-Architectures\\Labs\\Lab4\\code\\rbm.py\u001b[0m in \u001b[0;36mcd1\u001b[1;34m(self, visible_trainset, n_iterations, visualize_w)\u001b[0m\n\u001b[0;32m    107\u001b[0m                 \u001b[0mp_v_given_h_1\u001b[0m\u001b[1;33m,\u001b[0m \u001b[0mv_1\u001b[0m \u001b[1;33m=\u001b[0m \u001b[0mself\u001b[0m\u001b[1;33m.\u001b[0m\u001b[0mget_v_given_h\u001b[0m\u001b[1;33m(\u001b[0m\u001b[0mh_0\u001b[0m\u001b[1;33m)\u001b[0m\u001b[1;33m\u001b[0m\u001b[1;33m\u001b[0m\u001b[0m\n\u001b[0;32m    108\u001b[0m                 \u001b[1;31m# v_1 -> h_1\u001b[0m\u001b[1;33m\u001b[0m\u001b[1;33m\u001b[0m\u001b[1;33m\u001b[0m\u001b[0m\n\u001b[1;32m--> 109\u001b[1;33m                 \u001b[0mp_h_given_v_0\u001b[0m\u001b[1;33m,\u001b[0m \u001b[0mh_1\u001b[0m \u001b[1;33m=\u001b[0m \u001b[0mself\u001b[0m\u001b[1;33m.\u001b[0m\u001b[0mget_h_given_v\u001b[0m\u001b[1;33m(\u001b[0m\u001b[0mv_1\u001b[0m\u001b[1;33m)\u001b[0m\u001b[1;33m\u001b[0m\u001b[1;33m\u001b[0m\u001b[0m\n\u001b[0m\u001b[0;32m    110\u001b[0m \u001b[1;33m\u001b[0m\u001b[0m\n\u001b[0;32m    111\u001b[0m             \u001b[1;31m# [TASK 4.1 - Finished]\u001b[0m\u001b[1;33m\u001b[0m\u001b[1;33m\u001b[0m\u001b[1;33m\u001b[0m\u001b[0m\n",
      "\u001b[1;32mc:\\Users\\Francisco Javier\\OneDrive - Universidad Politécnica de Madrid\\KTH\\P3\\DD2437_ANN-Deep-Architectures\\Labs\\Lab4\\code\\rbm.py\u001b[0m in \u001b[0;36mget_h_given_v\u001b[1;34m(self, visible_minibatch)\u001b[0m\n\u001b[0;32m    191\u001b[0m         \u001b[1;31m# Shape of p_h_given_v and h: (n_samples, self.ndim_hidden)\u001b[0m\u001b[1;33m\u001b[0m\u001b[1;33m\u001b[0m\u001b[1;33m\u001b[0m\u001b[0m\n\u001b[0;32m    192\u001b[0m         \u001b[1;31m# p(hj = 1) = sigmoid(b_j + sum_i (w_ij v_i))\u001b[0m\u001b[1;33m\u001b[0m\u001b[1;33m\u001b[0m\u001b[1;33m\u001b[0m\u001b[0m\n\u001b[1;32m--> 193\u001b[1;33m         \u001b[0mp_h_given_v\u001b[0m \u001b[1;33m=\u001b[0m \u001b[0msigmoid\u001b[0m\u001b[1;33m(\u001b[0m\u001b[0mself\u001b[0m\u001b[1;33m.\u001b[0m\u001b[0mbias_h\u001b[0m \u001b[1;33m+\u001b[0m \u001b[0mnp\u001b[0m\u001b[1;33m.\u001b[0m\u001b[0mdot\u001b[0m\u001b[1;33m(\u001b[0m\u001b[0mvisible_minibatch\u001b[0m\u001b[1;33m,\u001b[0m \u001b[0mself\u001b[0m\u001b[1;33m.\u001b[0m\u001b[0mweight_vh\u001b[0m\u001b[1;33m)\u001b[0m\u001b[1;33m)\u001b[0m\u001b[1;33m\u001b[0m\u001b[1;33m\u001b[0m\u001b[0m\n\u001b[0m\u001b[0;32m    194\u001b[0m \u001b[1;33m\u001b[0m\u001b[0m\n\u001b[0;32m    195\u001b[0m         \u001b[1;31m# Sample activations ON=1 (OFF=0) from probabilities sigmoid probabilities\u001b[0m\u001b[1;33m\u001b[0m\u001b[1;33m\u001b[0m\u001b[1;33m\u001b[0m\u001b[0m\n",
      "\u001b[1;32mc:\\Users\\Francisco Javier\\OneDrive - Universidad Politécnica de Madrid\\KTH\\P3\\DD2437_ANN-Deep-Architectures\\Labs\\Lab4\\code\\util.py\u001b[0m in \u001b[0;36msigmoid\u001b[1;34m(support)\u001b[0m\n\u001b[0;32m     13\u001b[0m     \"\"\"\n\u001b[0;32m     14\u001b[0m \u001b[1;33m\u001b[0m\u001b[0m\n\u001b[1;32m---> 15\u001b[1;33m     \u001b[0mon_probabilities\u001b[0m \u001b[1;33m=\u001b[0m \u001b[1;36m1.\u001b[0m\u001b[1;33m/\u001b[0m\u001b[1;33m(\u001b[0m\u001b[1;36m1.\u001b[0m\u001b[1;33m+\u001b[0m\u001b[0mnp\u001b[0m\u001b[1;33m.\u001b[0m\u001b[0mexp\u001b[0m\u001b[1;33m(\u001b[0m\u001b[1;33m-\u001b[0m\u001b[0msupport\u001b[0m\u001b[1;33m)\u001b[0m\u001b[1;33m)\u001b[0m\u001b[1;33m\u001b[0m\u001b[1;33m\u001b[0m\u001b[0m\n\u001b[0m\u001b[0;32m     16\u001b[0m     \u001b[1;32mreturn\u001b[0m \u001b[0mon_probabilities\u001b[0m\u001b[1;33m\u001b[0m\u001b[1;33m\u001b[0m\u001b[0m\n\u001b[0;32m     17\u001b[0m \u001b[1;33m\u001b[0m\u001b[0m\n",
      "\u001b[1;31mKeyboardInterrupt\u001b[0m: "
     ]
    }
   ],
   "source": [
    "rbm = RestrictedBoltzmannMachine(ndim_visible=image_size[0] * image_size[1],\n",
    "                                 ndim_hidden=500,\n",
    "                                 is_bottom=True, \n",
    "                                 image_size=image_size,\n",
    "                                 is_top=False,\n",
    "                                 n_labels=10,\n",
    "                                 batch_size=20\n",
    "                                 )\n",
    "\n",
    "rbm.cd1(visible_trainset=train_imgs, n_iterations=20)"
   ]
  }
 ],
 "metadata": {
  "kernelspec": {
   "display_name": "Python 3",
   "language": "python",
   "name": "python3"
  },
  "language_info": {
   "codemirror_mode": {
    "name": "ipython",
    "version": 3
   },
   "file_extension": ".py",
   "mimetype": "text/x-python",
   "name": "python",
   "nbconvert_exporter": "python",
   "pygments_lexer": "ipython3",
   "version": "3.7.7"
  },
  "orig_nbformat": 4,
  "vscode": {
   "interpreter": {
    "hash": "49a108110633cba9fdd1676430dd0df6efaa292dc84a86a1ffe5dc61d7a6c362"
   }
  }
 },
 "nbformat": 4,
 "nbformat_minor": 2
}
